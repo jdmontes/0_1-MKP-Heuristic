{
  "nbformat": 4,
  "nbformat_minor": 0,
  "metadata": {
    "colab": {
      "name": "01_MKP_Heuristic.ipynb",
      "provenance": [],
      "collapsed_sections": [],
      "machine_shape": "hm",
      "include_colab_link": true
    },
    "kernelspec": {
      "display_name": "Python 3",
      "language": "python",
      "name": "python3"
    },
    "language_info": {
      "codemirror_mode": {
        "name": "ipython",
        "version": 3
      },
      "file_extension": ".py",
      "mimetype": "text/x-python",
      "name": "python",
      "nbconvert_exporter": "python",
      "pygments_lexer": "ipython3",
      "version": "3.8.5"
    },
    "accelerator": "TPU"
  },
  "cells": [
    {
      "cell_type": "markdown",
      "metadata": {
        "id": "view-in-github",
        "colab_type": "text"
      },
      "source": [
        "<a href=\"https://colab.research.google.com/github/jdmontes/0_1-MKP-Heuristic/blob/main/01_MKP_Heuristic.ipynb\" target=\"_parent\"><img src=\"https://colab.research.google.com/assets/colab-badge.svg\" alt=\"Open In Colab\"/></a>"
      ]
    },
    {
      "cell_type": "markdown",
      "metadata": {
        "id": "aIC4sB1rMufs"
      },
      "source": [
        "# **Heuristic to select pipes to be replaced**\n",
        "\n",
        "The heuristic in this code aims to find an approximate solution to the optimization problem:\n",
        "\n",
        "\n",
        ">>$ min\\:\\: \\sum_{i=0}^n c_ix_i$\n",
        "\n",
        "\n",
        "subject to:\n",
        "\n",
        ">>$\\sum_{i=0}^n (1-x_i)br_i \\leq target\\:br$ \\\n",
        "\\\n",
        "$\\sum_{i=0}^n (1-x_i)lr_i \\leq target\\:lr$ \\\n",
        "\\\n",
        "$\\sum_{i=0}^n (1-x_i)si_i \\leq target\\:si$ \\\n",
        "\\\n",
        "$x_i \\in \\{0,1\\}\\: \\: i=1..n$\n",
        "\n",
        "\n",
        "where:\n",
        "\n",
        ">>$c_i$ = cost of replacing pipe i\\\n",
        "$br_i$ = burst rate of pipe i \\\n",
        "$lr_i$ = leakage rate of pipe i\\\n",
        "$si_i$ = supply interruption time of pipe i\\\n",
        "$target\\:br$ = target bust rate\\\n",
        "$target\\:lr$ = target leakage rate\\\n",
        "$target\\:si$ = target supply interruption time\\\n",
        "$x_i$ takes value 1 if pipe i is replaced and 0 otherwise\n",
        "\n",
        "\n"
      ]
    },
    {
      "cell_type": "code",
      "metadata": {
        "id": "lUmCkfY2gfTi",
        "cellView": "form"
      },
      "source": [
        "#@title Packages loading\n",
        "#load required packages\n",
        "import pandas as pd\n",
        "import numpy as np\n",
        "import os\n",
        "pd.set_option(\"display.max_rows\", 50)\n",
        "import warnings\n",
        "warnings.filterwarnings(\"ignore\")\n",
        "import timeit\n",
        "import datetime"
      ],
      "execution_count": null,
      "outputs": []
    },
    {
      "cell_type": "markdown",
      "metadata": {
        "id": "J7F-IzSdxfVD"
      },
      "source": [
        "### Load on Colab\n",
        "Uncomment if using colab"
      ]
    },
    {
      "cell_type": "code",
      "metadata": {
        "colab": {
          "base_uri": "https://localhost:8080/"
        },
        "id": "ho9ujDECHJF_",
        "outputId": "82d09351-f7c5-42ae-aba8-eadc3818754c"
      },
      "source": [
        "# #Use this cell only if working on Google Colab, otherwise comment all lines\n",
        "# #Mount Google Drive\n",
        "# from google.colab import drive\n",
        "# drive.mount('/content/Drive')"
      ],
      "execution_count": null,
      "outputs": [
        {
          "output_type": "stream",
          "text": [
            "Drive already mounted at /content/Drive; to attempt to forcibly remount, call drive.mount(\"/content/Drive\", force_remount=True).\n"
          ],
          "name": "stdout"
        }
      ]
    },
    {
      "cell_type": "code",
      "metadata": {
        "colab": {
          "base_uri": "https://localhost:8080/"
        },
        "id": "hGuH-40GBX4d",
        "outputId": "e878a96c-20a1-45d4-8f8c-a72d45591faf"
      },
      "source": [
        "# cd '/content/Drive/MyDrive/Colab Notebooks/0_1-MKP-Heuristic'"
      ],
      "execution_count": null,
      "outputs": [
        {
          "output_type": "stream",
          "text": [
            "/content/Drive/MyDrive/Colab Notebooks/0_1-MKP-Heuristic\n"
          ],
          "name": "stdout"
        }
      ]
    },
    {
      "cell_type": "markdown",
      "metadata": {
        "id": "wQa3WEWIMSch"
      },
      "source": [
        "## Input parameters\n",
        "\n",
        "Verify that all parameters are set according to the dataset\n",
        "\n"
      ]
    },
    {
      "cell_type": "code",
      "metadata": {
        "id": "ejlan-e2MnVh",
        "colab": {
          "base_uri": "https://localhost:8080/"
        },
        "outputId": "d9f892ee-3bac-479f-ccb5-bc00e5acd6ed"
      },
      "source": [
        "#Define working dataset\n",
        "dataset = 'dataset2'\n",
        "\n",
        "#Read the test to be conducted\n",
        "tests = \\\n",
        "  pd.read_excel(f'data/tests_{dataset}.xlsx')\n",
        "try:\n",
        "    test\n",
        "except NameError:\n",
        "    test = 0\n",
        "\n",
        "#Start to measure execution time\n",
        "start = datetime.datetime.now()\n",
        "\n",
        "#Set right-hand side of the constraints\n",
        "target_br = tests['target_burst_rate'].iloc[test]\n",
        "target_lr = tests['target_leakage_rate'].iloc[test]\n",
        "target_si = tests['target_supply_int'].iloc[test]\n",
        "\n",
        "\n",
        "#Enter the number of properties\n",
        "num_properties = 2000000\n",
        "\n",
        "#Enter the quantile\n",
        "quantile = 0.9\n",
        "\n",
        "#with or without adjustments- Select between 'w_adjustment' and 'wo_adjustment'\n",
        "adjustment = 'w_adjustment'\n",
        "\n",
        "test += 1\n",
        "print(test)"
      ],
      "execution_count": null,
      "outputs": [
        {
          "output_type": "stream",
          "text": [
            "12\n"
          ],
          "name": "stdout"
        }
      ]
    },
    {
      "cell_type": "markdown",
      "metadata": {
        "id": "BLr1sCE3ffKD"
      },
      "source": [
        "## Load the data and prepare it\n"
      ]
    },
    {
      "cell_type": "code",
      "metadata": {
        "id": "0uW-AKz4-VLb"
      },
      "source": [
        "#Create dataframe with the data\n",
        "\n",
        "data = pd.read_excel(f'data/{dataset}.xlsx')\n",
        "\n",
        "#Add column with expected leakage rate per day\n",
        "data['Expected Leakage l/d'] = data['Expected Leakage l/h']*24\n",
        "\n",
        "#Add column with average supply interruption in minutes\n",
        "data['Avg supply int min'] = data['Expected Int to Supply Prop min']/num_properties\n",
        "\n",
        "#Make a copy of the original data\n",
        "original_data = data.copy()\n"
      ],
      "execution_count": null,
      "outputs": []
    },
    {
      "cell_type": "markdown",
      "metadata": {
        "id": "DofP0P4RiqQA"
      },
      "source": [
        "## Heuristics\n",
        "This section contains the code of the heuristics, which is based on an algorithm that assigns points to each pipe depending on how efficient they are to close the feasibility gap.\n",
        "\n",
        "**feasibility gap** is the difference between the actual value of the constraint and their target value. If the difference is less or equal than zero, which means that the constraint is not being violated, the feasibility gap is zero. \n",
        "\n",
        "For each constraint parameter, namely burst rate, leakage rate and average supply interruption time, the points are calculated as the pipe parameter value divided by the sum of the parameter value of all pipes. For instance, the burst rate points for pipe ***i*** would be:\n",
        "\n",
        ">>$br\\:points\\:i = \\frac{burst\\: rate\\: of\\: pipe\\: i}{sum\\:burst\\:rate\\:all\\:not\\:selected\\:pipes}$ \n",
        "\n",
        "In order to get the total points for each pipe properly, we must find the weights for each constraint parameter. The logic behind the weights relays on how \"easy\" filling the gap is. We measure the easiness as the ratio between the feasibility gap and the 90th quantile of constraint parameter. As we expect to fill the feasibility gap with the pipes that hold the highest values of constraints' parameters, the 90th quantile seems to be a sensible approximation of the easiness. Finally, the weights are adjusted to sum up one.  \n",
        "\n",
        "Next, the weighted sum of the points is calculated and divided by the cost of replacing the pipe. This will give us a ranking with the more efficient pipes.\n",
        "\n",
        "When selecting the last pipe, we don't want to select the pipe with the highest rank (based on the point rank depicted before), but the pipe able to fill the final gap at the lowest price. Therefore, an alternative ranking is made to select this pipe and make the heuristic more efficient.\n",
        "\n"
      ]
    },
    {
      "cell_type": "code",
      "metadata": {
        "id": "GpogWC3KirM6",
        "colab": {
          "base_uri": "https://localhost:8080/"
        },
        "cellView": "form",
        "outputId": "39c05d42-d2aa-41c5-9cec-370d15352b05"
      },
      "source": [
        "#@title Heuristic Code\n",
        "#Initial value of constraints\n",
        "initial_br = sum(original_data['Expected Burst/year'])\n",
        "initial_lr = sum(original_data['Expected Leakage l/d'])\n",
        "initial_si = sum(original_data['Expected Int to Supply Prop min'])/num_properties\n",
        "\n",
        "print('Intitial burst rate = {:,.1f}'.format(initial_br))\n",
        "print('Intitial leakage rate = {:,.1f}'.format(initial_lr))\n",
        "print('Intitial average supply int = {:,.1f}\\n'.format(initial_si))\n",
        "\n",
        "#Compute feasibility gap for each constraint\n",
        "initial_br_gap = float(np.where(initial_br - target_br >0, initial_br - target_br, 0))\n",
        "initial_lr_gap = float(np.where(initial_lr - target_lr >0, initial_lr - target_lr, 0))\n",
        "initial_si_gap = float(np.where(initial_si - target_si >0, initial_si - target_si, 0))\n",
        "\n",
        "print('Intitial burst rate gap = {:,.1f}'.format(initial_br_gap))\n",
        "print('Intitial leakage rate gap = {:,.1f}'.format(initial_lr_gap))\n",
        "print('Intitial supply interruption gap = {:,.1f}\\n'.format(initial_si_gap))\n",
        "\n",
        "#Get the number of constraints\n",
        "#Some of the constraints are left without effect by fising the RHS way above the\n",
        "  #intial value of the constraints' parameters. This is made for analysis\n",
        "  #purpose\n",
        "count_br = np.where(initial_br_gap >0, 1, 0)\n",
        "count_lr = np.where(initial_lr_gap >0, 1, 0)\n",
        "count_si = np.where(initial_si_gap >0, 1, 0)\n",
        "\n",
        "n_real_constraints = count_br + count_lr + count_si\n",
        "\n",
        "\n",
        "#Get the quantile for the constraints' parameters data\n",
        "quantile_br = original_data['Expected Burst/year'].quantile(quantile)\n",
        "quantile_lr = original_data['Expected Leakage l/d'].quantile(quantile)\n",
        "quantile_si = original_data['Avg supply int min'].quantile(quantile)\n",
        "\n",
        "#Get the ratio for each constraint as the division between the initial gap and \n",
        "#the desired quantile. Those constraints with a low quantile in relation to \n",
        "#their initial gap would have the highest ratio. It means that more attention \n",
        "#should be pointed towards them.\n",
        "\n",
        "br_ratio = initial_br_gap/quantile_br\n",
        "lr_ratio = initial_lr_gap/quantile_lr\n",
        "si_ratio = initial_si_gap/quantile_si\n",
        "\n",
        "#Computhe weights\n",
        "ratios_sum = br_ratio + lr_ratio + si_ratio\n",
        "\n",
        "br_w = br_ratio/ratios_sum\n",
        "lr_w = lr_ratio/ratios_sum\n",
        "si_w = si_ratio/ratios_sum\n",
        "\n",
        "#Start with 0 pipes selected\n",
        "not_selected_pipes = original_data.copy()\n",
        "\n",
        "#Compute points for each pipe and constraint parameters. Pipes with higher  \n",
        "  #values of the constraint parameters get higher points as they can close the \n",
        "  #gap easily\n",
        "\n",
        "not_selected_pipes['burst_points'] = \\\n",
        "  100*not_selected_pipes['Expected Burst/year']/\\\n",
        "  sum(not_selected_pipes['Expected Burst/year'])\n",
        "\n",
        "not_selected_pipes['leakage_points'] = \\\n",
        "  100*not_selected_pipes['Expected Leakage l/d']/\\\n",
        "  sum(not_selected_pipes['Expected Leakage l/d'])\n",
        "\n",
        "not_selected_pipes['supply_points'] = \\\n",
        "  100*not_selected_pipes['Avg supply int min']/\\\n",
        "  sum(not_selected_pipes['Avg supply int min'])\n",
        "\n",
        "#Get total points for each pipes by computing the weighted sum of each  \n",
        "  #constraint points and dividing by the cost of replacing the pipes\n",
        "not_selected_pipes['total_points'] = \\\n",
        "  (not_selected_pipes['burst_points']*br_w + \\\n",
        "   not_selected_pipes['leakage_points']*lr_w + \\\n",
        "   not_selected_pipes['supply_points']*si_w)/not_selected_pipes['Cost']\n",
        "\n",
        "#Sort the pipes according to total points descending order\n",
        "not_selected_pipes = not_selected_pipes.sort_values(by = ['total_points'], \\\n",
        "                                                    ascending= False)\n",
        "\n",
        "#Get initial ranking as a reference to measure single ranking performance\n",
        "initial_ranking = not_selected_pipes.copy()\n",
        "\n",
        "#Get the constraints gap\n",
        "br_gap = initial_br_gap\n",
        "lr_gap = initial_lr_gap\n",
        "si_gap = initial_si_gap\n",
        "\n",
        "#Start the count \n",
        "i= 0\n",
        "\n",
        "#Start with 0 pipes selected\n",
        "selected_pipes = pd.DataFrame()\n",
        "\n",
        "#Loop to select pipes\n",
        "#Loop will continue until all the gaps have been filled\n",
        "while br_gap > 0 or lr_gap > 0 or si_gap >0:\n",
        "  \n",
        "\n",
        "#####################  FIRST ADJUSTMENT STEP STARTS  ###########################\n",
        "  #----------------------GET THE BEST LAST PIPE---------------------------------\n",
        "  #If the gaps can be filled with one pipe, it is preferable to select the \n",
        "  #one with the minimum cost and not the one with the highest points, which\n",
        "  #may be different\n",
        "\n",
        "  first_pipe = not_selected_pipes['Expected Burst/year'].iloc[0]> br_gap and\\\n",
        "    not_selected_pipes['Expected Leakage l/d'].iloc[0]> lr_gap and\\\n",
        "    not_selected_pipes['Avg supply int min'].iloc[0]> si_gap\n",
        "\n",
        "  second_pipe = not_selected_pipes['Expected Burst/year'].iloc[1]> br_gap and\\\n",
        "    not_selected_pipes['Expected Leakage l/d'].iloc[1]> lr_gap and\\\n",
        "    not_selected_pipes['Avg supply int min'].iloc[1]> si_gap\n",
        "\n",
        "    \n",
        "  \n",
        "  if first_pipe and adjustment=='w_adjustment':\n",
        "                \n",
        "    #Make a copy of the not_selected_pipes\n",
        "    alternative_ranking = not_selected_pipes.copy()\n",
        "    \n",
        "    #Add a column to find pipes which can fullfill the gaps by their own\n",
        "    alternative_ranking['sufficient_pipe'] = \"\"\n",
        "    \n",
        "    for j in range(alternative_ranking.shape[0]):\n",
        "      \n",
        "      #If a pipe can fill the gaps, it assigns value Trues and False otherwise\n",
        "      alternative_ranking['sufficient_pipe'].iloc[j] = \\\n",
        "        np.where(not_selected_pipes['Expected Burst/year'].iloc[j]> br_gap and \\\n",
        "        not_selected_pipes['Expected Leakage l/d'].iloc[j]> lr_gap and \\\n",
        "        not_selected_pipes['Avg supply int min'].iloc[j]> si_gap, True, False) \n",
        "    \n",
        "    #Dicth the pipes that cannot fill the gaps by their own\n",
        "    alternative_ranking = \\\n",
        "      alternative_ranking[alternative_ranking['sufficient_pipe']==True]\n",
        "    \n",
        "    \n",
        "    #Get the pipes in ascending cost order\n",
        "    alternative_ranking = alternative_ranking.sort_values(by = ['Cost'])\n",
        "    \n",
        "    #Attach the pipe with the lowest cost to selected pipes\n",
        "    selected_pipes = \\\n",
        "      selected_pipes.append(not_selected_pipes[not_selected_pipes['Ref']==\\\n",
        "                                               alternative_ranking.Ref.iloc[0]])\n",
        "    \n",
        "    #Update the list of not selected pipes\n",
        "    not_selected_pipes = \\\n",
        "      not_selected_pipes[not_selected_pipes.Ref != alternative_ranking.Ref.iloc[0]]\n",
        "#####################  FIRST ADJUSTMENT STEP FINISHES  #########################\n",
        "\n",
        "#####################  HEURISTIC MAIN ALGORITHM STARTS  ######################## \n",
        "  else:\n",
        "\n",
        "      #Select pipes according to the points criteria\n",
        "      selected_pipes = selected_pipes.append(not_selected_pipes.iloc[0,:])\n",
        "\n",
        "      #Update not selected pipes\n",
        "      not_selected_pipes = not_selected_pipes.iloc[1:,:]\n",
        "\n",
        "      #Update left-hand side of constraints \n",
        "      br = sum(not_selected_pipes['Expected Burst/year'])\n",
        "      lr = sum(not_selected_pipes['Expected Leakage l/d'])\n",
        "      si = sum(not_selected_pipes['Avg supply int min'])\n",
        "\n",
        "      #Update constraints' gaps\n",
        "      br_gap = float(np.where(br - target_br >0, br - target_br, 0))\n",
        "      lr_gap = float(np.where(lr - target_lr >0, lr - target_lr, 0))\n",
        "      si_gap = float(np.where(si - target_si >0, si - target_si, 0))\n",
        "\n",
        "      #Updates quantile\n",
        "      quantile_br = not_selected_pipes['Expected Burst/year'].quantile(quantile)\n",
        "      quantile_lr = not_selected_pipes['Expected Leakage l/d'].quantile(quantile)\n",
        "      quantile_si = not_selected_pipes['Avg supply int min'].quantile(quantile)\n",
        "\n",
        "      #Updates ratios\n",
        "      br_ratio = br_gap/quantile_br\n",
        "      lr_ratio = lr_gap/quantile_lr\n",
        "      si_ratio = si_gap/quantile_si\n",
        "\n",
        "      ratios_sum = br_ratio + lr_ratio + si_ratio\n",
        "\n",
        "      #Updates weights\n",
        "      br_w = br_ratio/ratios_sum\n",
        "      lr_w = lr_ratio/ratios_sum\n",
        "      si_w = si_ratio/ratios_sum\n",
        "\n",
        "      #Update points\n",
        "      not_selected_pipes['burst_points'] = \\\n",
        "        100*not_selected_pipes['Expected Burst/year']/\\\n",
        "        sum(not_selected_pipes['Expected Burst/year']) \n",
        "\n",
        "      not_selected_pipes['leakage_points'] = \\\n",
        "        100*not_selected_pipes['Expected Leakage l/d']/\\\n",
        "        sum(not_selected_pipes['Expected Leakage l/d'])\n",
        "\n",
        "      not_selected_pipes['supply_points'] = \\\n",
        "        100*not_selected_pipes['Avg supply int min']/\\\n",
        "        sum(not_selected_pipes['Avg supply int min'])\n",
        "\n",
        "      not_selected_pipes['total_points'] = \\\n",
        "        (not_selected_pipes['burst_points']*br_w + \\\n",
        "          not_selected_pipes['leakage_points']*lr_w + \\\n",
        "          not_selected_pipes['supply_points']*si_w)/not_selected_pipes['Cost']\n",
        "\n",
        "      #Update pipes ranking\n",
        "      not_selected_pipes = \\\n",
        "        not_selected_pipes.sort_values(by = ['total_points'], ascending= False)\n",
        "\n",
        "  #Update left-hand side of the constraints \n",
        "  br = sum(not_selected_pipes['Expected Burst/year'])\n",
        "  lr = sum(not_selected_pipes['Expected Leakage l/d'])\n",
        "  si = sum(not_selected_pipes['Avg supply int min'])\n",
        "\n",
        "  #Update constraints' gap\n",
        "  br_gap = float(np.where(br - target_br >0, br - target_br, 0))\n",
        "  lr_gap = float(np.where(lr - target_lr >0, lr - target_lr, 0))\n",
        "  si_gap = float(np.where(si - target_si >0, si - target_si, 0))\n",
        "\n",
        "  #Update the number of iterations\n",
        "  i+=1\n",
        "####################  HEURISTIC MAIN ALGORITHM FINISHES  #######################\n",
        "\n",
        "\n",
        "if adjustment=='w_adjustment':\n",
        "  ####################  SECOND ADJUSTMENT STEP STARTS  #########################\n",
        "  # This step checks if the last pipe could be replaced by two pipes at a lower\n",
        "  # cost.\n",
        "\n",
        "  #Identify pipes with half the cost of the last pipe. These pipes are candidates\n",
        "    # to replace the last pipe selected if another suitable pipe is found.\n",
        "  alternative_ranking1 = \\\n",
        "    not_selected_pipes[not_selected_pipes.Cost < selected_pipes.Cost.iloc[-1]/2]\n",
        "\n",
        "  #Get the pipes with a cost lower than the last pipe selected\n",
        "  alternative_ranking2 = \\\n",
        "    not_selected_pipes[not_selected_pipes.Cost < selected_pipes.Cost.iloc[-1]]\n",
        "\n",
        "\n",
        "  #Verify if pipes with a cost lower than half the price of the last selected\n",
        "    #pipe has been found and that more than one pipe with price lower than the\n",
        "    # last pipe have also been found. More than one is required as \n",
        "    # alternative_ranking2 would naturally include the pipes in \n",
        "    # alternative_ranking1\n",
        "  \n",
        "  if not alternative_ranking1.empty or alternative_ranking2.shape[0]>1:\n",
        "    \n",
        "    #Get the actual cost of the solution\n",
        "    cost = sum(selected_pipes.Cost)\n",
        "    \n",
        "    #Create an empty dataframe to store the candiates pipes to replace the last\n",
        "      #selected pipe.\n",
        "    merged_pipes = pd.DataFrame()\n",
        "    candidates_out = pd.DataFrame()\n",
        "    candidates_in = pd.DataFrame()\n",
        "    for k in range(alternative_ranking1.shape[0]):\n",
        "      #Store the candidate number one \n",
        "      merged_pipes = merged_pipes.append(alternative_ranking1.iloc[k,:])\n",
        "    \n",
        "      #Create another list without the candidate number one\n",
        "      alternative_ranking3 = \\\n",
        "        alternative_ranking2[~alternative_ranking2['Ref'].isin(merged_pipes.Ref)]\n",
        "      \n",
        "      #Filter the list with the pipes that in conjuction with the candidate \n",
        "        #number one can fill the gap at a lower cost than the last selected pipe\n",
        "      alternative_ranking3 = \\\n",
        "        alternative_ranking3[alternative_ranking3.Cost < \\\n",
        "                            selected_pipes.Cost.iloc[-1] - sum(merged_pipes.Cost)]\n",
        "\n",
        "      required_br = \\\n",
        "        -(target_br - br - selected_pipes['Expected Burst/year'].iloc[-1])\n",
        "      required_lr = \\\n",
        "        -(target_lr - lr - selected_pipes['Expected Leakage l/d'].iloc[-1])\n",
        "      required_si = \\\n",
        "        -(target_si - si - selected_pipes['Avg supply int min'].iloc[-1])\n",
        "\n",
        "      alternative_ranking3 = \\\n",
        "        alternative_ranking3[(alternative_ranking3['Expected Burst/year'] > \\\n",
        "          required_br - merged_pipes['Expected Burst/year'].iloc[0]) &\\\n",
        "        (alternative_ranking3['Expected Leakage l/d'] > \\\n",
        "          required_lr - merged_pipes['Expected Leakage l/d'].iloc[0]) &\\\n",
        "        (alternative_ranking3['Avg supply int min'] > \\\n",
        "          required_si - merged_pipes['Avg supply int min'].iloc[0])]\n",
        "    \n",
        "      #If a suitable second candidate is found, the one with the lowest cost is\n",
        "      # choosen\n",
        "      if not alternative_ranking3.empty:\n",
        "        alternative_ranking3 = alternative_ranking3.sort_values(by=['Cost'])\n",
        "        \n",
        "        merged_pipes = merged_pipes.append(alternative_ranking3.iloc[0,:])\n",
        "\n",
        "        replaced_pipe = selected_pipes.iloc[-1,:].to_frame().T\n",
        "\n",
        "        cost1 = sum(selected_pipes.Cost) + sum(merged_pipes.Cost) -\\\n",
        "                sum(replaced_pipe.Cost)\n",
        "        \n",
        "        #If the cost improves, the we'd found candidates\n",
        "        if cost1 < cost:\n",
        "          cost = cost1\n",
        "          candidates_in = merged_pipes\n",
        "          candidates_out = replaced_pipe\n",
        "\n",
        "    #Update selected and not selected pipes\n",
        "    if candidates_in.shape[0]==2:\n",
        "      selected_pipes = selected_pipes.iloc[:-1,:]\n",
        "      selected_pipes = selected_pipes.append(candidates_in)\n",
        "\n",
        "      not_selected_pipes = candidates_out.append(not_selected_pipes)\n",
        "      not_selected_pipes = \\\n",
        "        not_selected_pipes[~not_selected_pipes['Ref'].isin(candidates_in.Ref)]\n",
        "\n",
        "      #Update constraints' gap\n",
        "      br = sum(not_selected_pipes['Expected Burst/year'])\n",
        "      lr = sum(not_selected_pipes['Expected Leakage l/d'])\n",
        "      si = sum(not_selected_pipes['Avg supply int min'])\n",
        "\n",
        "      #Update slack variables\n",
        "      excess_br = target_br - br\n",
        "      excess_lr = target_lr - lr\n",
        "      excess_si = target_si - si\n",
        "  #####################  SECOND ADJUSTMENT STEP FINISHES  ######################\n",
        "\n",
        "  ######################  THIRD ADJUSTMENT STEP STARTS  ########################\n",
        "  #It could happen that when we select the last pipe, one or more previously \n",
        "    #selected pipes turn to be in excess, increasing the total cost of the\n",
        "    #heuristic. This step detects those pipes and remove them.\n",
        "\n",
        "  #Get the slack variables\n",
        "  excess_br = target_br - br\n",
        "  excess_lr = target_lr - lr\n",
        "  excess_si = target_si - si\n",
        "\n",
        "  #This loop find pipes in excess while no constraint is violated\n",
        "  while excess_br >0 and excess_lr >0 and excess_si >0:\n",
        "    #Create an empty dataframe to store the pipes in excess\n",
        "    pipes_in_excess = pd.DataFrame()\n",
        "\n",
        "    #Loop through selected pipes to find pipes in excess\n",
        "    for pipe in range(selected_pipes.shape[0]):\n",
        "    \n",
        "      excess_pipe = selected_pipes['Expected Burst/year'].iloc[pipe] <= excess_br and\\\n",
        "        selected_pipes['Expected Leakage l/d'].iloc[pipe] <= excess_lr and\\\n",
        "        selected_pipes['Avg supply int min'].iloc[pipe] <= excess_si\n",
        "      \n",
        "      #If a pipe is identified to be in excess, it is added to the list\n",
        "      if excess_pipe:\n",
        "        pipes_in_excess = pipes_in_excess.append(selected_pipes.iloc[pipe,:])\n",
        "\n",
        "    #If no excess pipes are identified, the loop breaks\n",
        "    if pipes_in_excess.empty:\n",
        "      break\n",
        "\n",
        "    #If excess pipes are identified, we removed them from selected pipes and \n",
        "    # placed them in not selected pipes\n",
        "    else:\n",
        "      #Remove the pipe in excess with the lowest cost from selected pipes\n",
        "      pipes_in_excess = \\\n",
        "        pipes_in_excess.sort_values(by = ['Cost'], ascending= False).iloc[0,:]\n",
        "      \n",
        "      selected_pipes = selected_pipes[selected_pipes.Ref != pipes_in_excess.Ref]\n",
        "\n",
        "      not_selected_pipes = not_selected_pipes.append(pipes_in_excess)\n",
        "      not_selected_pipes = \\\n",
        "        not_selected_pipes.sort_values(by = ['total_points'], ascending= False)\n",
        "\n",
        "      #Update constraints' gap\n",
        "      br = sum(not_selected_pipes['Expected Burst/year'])\n",
        "      lr = sum(not_selected_pipes['Expected Leakage l/d'])\n",
        "      si = sum(not_selected_pipes['Avg supply int min'])\n",
        "\n",
        "      #Update slack variables\n",
        "      excess_br = target_br - br\n",
        "      excess_lr = target_lr - lr\n",
        "      excess_si = target_si - si\n",
        "  ###################  THIRD ADJUSTMENT STEP FINISHES  ##########################  \n",
        "\n",
        "  ######################  FOURTH ADJUSTMENT STEP STARTS  ########################\n",
        "  #This step checks if one of the selected pipes, together with the last selected\n",
        "  #pipe, could be replaced by one of the not selected pipes at a lower cost\n",
        "\n",
        "  #Return last pipe to an alterntive not_selected dataframe\n",
        "  selected_pipes1 = selected_pipes.iloc[:-1,:]\n",
        "\n",
        "  not_selected_pipes1 = not_selected_pipes.append(selected_pipes.iloc[-1,:])\n",
        "\n",
        "\n",
        "  #Update left-hand side of the constraints \n",
        "  br1 = sum(not_selected_pipes1['Expected Burst/year'])\n",
        "  lr1 = sum(not_selected_pipes1['Expected Leakage l/d'])\n",
        "  si1 = sum(not_selected_pipes1['Avg supply int min'])\n",
        "\n",
        "  #Update constraints' gap\n",
        "  br_gap1 = float(np.where(br1 - target_br >0, br1 - target_br, 0))\n",
        "  lr_gap1 = float(np.where(lr1 - target_lr >0, lr1 - target_lr, 0))\n",
        "  si_gap1 = float(np.where(si1 - target_si >0, si1 - target_si, 0))\n",
        "\n",
        "  #From not_selected_pipes filter the ones which could fullfill the gap filled by\n",
        "    #the last selected pipe \n",
        "  not_selected_pipes1 = \\\n",
        "    not_selected_pipes[(not_selected_pipes['Expected Burst/year'] >= br_gap1)\\\n",
        "                      & (not_selected_pipes['Expected Leakage l/d']>= lr_gap1)\\\n",
        "                      & (not_selected_pipes['Avg supply int min']>= si_gap1)]\n",
        "                          \n",
        "\n",
        "  if not not_selected_pipes1.empty:\n",
        "\n",
        "    #If one or more pipe exist, sort them by cost\n",
        "    not_selected_pipes1 = not_selected_pipes1.sort_values(by=['Cost'])\n",
        "    \n",
        "    #Get the actual cost\n",
        "    cost = sum(selected_pipes.Cost)\n",
        "    \n",
        "    #Empty dataframe to store candidates to be pulled out of selected pipe\n",
        "    candidates_out = pd.DataFrame()\n",
        "    candidates_in = pd.DataFrame\n",
        "    \n",
        "    #Loop to appraise the pipes to be pushed in the selected pipes\n",
        "    for h in range(not_selected_pipes1.shape[0]):\n",
        "      \n",
        "      #Get the surplus the pipe would generate if pushed into the selected lits\n",
        "      br_excess1 = \\\n",
        "        br1 - target_br - not_selected_pipes1['Expected Burst/year'].iloc[h]\n",
        "      \n",
        "      lr_excess1 = \\\n",
        "        lr1 - target_lr - not_selected_pipes1['Expected Leakage l/d'].iloc[h]\n",
        "      \n",
        "      si_excess1 = \\\n",
        "        si1 - target_si - not_selected_pipes1['Avg supply int min'].iloc[h]\n",
        "\n",
        "      #Check if with the surplus generated, some selected pipes are in excess \n",
        "      selected_pipes2 = \\\n",
        "        selected_pipes1[(selected_pipes1['Expected Burst/year']<= -br_excess1)\\\n",
        "                      & (selected_pipes1['Expected Leakage l/d']<= -lr_excess1)\\\n",
        "                      & (selected_pipes1['Avg supply int min']<= -si_excess1)\\\n",
        "                      & (selected_pipes1['Cost']>\\\n",
        "                          not_selected_pipes1['Cost'].iloc[h]-\\\n",
        "                          selected_pipes['Cost'].iloc[-1])]\n",
        "\n",
        "      #If some selected pipes happen to be in excess, sort them by cost\n",
        "      if not selected_pipes2.empty:\n",
        "        \n",
        "        selected_pipes2 = \\\n",
        "          selected_pipes2.sort_values(by=['Cost'], ascending= False)\n",
        "        \n",
        "        #Get the total cost after adding and removing the intended pipes\n",
        "        cost1 = sum(selected_pipes.Cost) - selected_pipes2.Cost.iloc[0] -\\\n",
        "                selected_pipes.Cost.iloc[-1] + not_selected_pipes1['Cost'].iloc[h]\n",
        "        \n",
        "        #If cost improves, pipes are store in candidates pipe are added to the \n",
        "          #respective list\n",
        "\n",
        "        if cost > cost1:\n",
        "          cost = cost1\n",
        "          candidates_in = not_selected_pipes1.iloc[h,:]\n",
        "          \n",
        "          if candidates_out.shape[0]>1:\n",
        "            candidates_out = selected_pipes2.iloc[0,:]\n",
        "          else:\n",
        "            candidates_out = candidates_out.append(selected_pipes2.iloc[0,:])\n",
        "          \n",
        "  #Add the last selected pipe to the candidates out list\n",
        "  candidates_out = candidates_out.append(selected_pipes.iloc[-1,:])\n",
        "\n",
        "  #If two candidates have been found, update selected and not selected pipes\n",
        "  if candidates_out.shape[0]==2:\n",
        "    selected_pipes = selected_pipes[~selected_pipes.Ref.isin(candidates_out.Ref)]\n",
        "    selected_pipes = selected_pipes.append(candidates_in)\n",
        "\n",
        "    not_selected_pipes = \\\n",
        "      not_selected_pipes[~not_selected_pipes.Ref.isin([candidates_in.Ref])]\n",
        "    \n",
        "    not_selected_pipes = candidates_out.append(not_selected_pipes)\n",
        "  #####################  FOURTH ADJUSTMENT STEP FINISHES  ########################\n",
        "\n",
        "print(f'Number of pipes selected = {selected_pipes.shape[0]}\\n')\n",
        "\n",
        "print('Total cost = £ {:,.0f}'.format(sum(selected_pipes['Cost'])))"
      ],
      "execution_count": null,
      "outputs": [
        {
          "output_type": "stream",
          "text": [
            "Intitial burst rate = 6,121.8\n",
            "Intitial leakage rate = 4,436,418.6\n",
            "Intitial average supply int = 226.1\n",
            "\n",
            "Intitial burst rate gap = 0.0\n",
            "Intitial leakage rate gap = 1,136,418.6\n",
            "Intitial supply interruption gap = 0.0\n",
            "\n",
            "Number of pipes selected = 225\n",
            "\n",
            "Total cost = £ 8,219,150\n"
          ],
          "name": "stdout"
        }
      ]
    },
    {
      "cell_type": "markdown",
      "metadata": {
        "id": "CSlN_TKefXxB"
      },
      "source": [
        "## Selected pipes summary"
      ]
    },
    {
      "cell_type": "code",
      "metadata": {
        "id": "eg7RzlZy6-rv",
        "colab": {
          "base_uri": "https://localhost:8080/"
        },
        "outputId": "27a796e5-b431-49fe-e555-02d3b6f22318"
      },
      "source": [
        "selected_pipes.sum()"
      ],
      "execution_count": null,
      "outputs": [
        {
          "output_type": "execute_result",
          "data": {
            "text/plain": [
              "Avg supply int min                 2.119230e+01\n",
              "Cost                               8.219150e+06\n",
              "Expected Burst/year                1.511541e+03\n",
              "Expected Int to Supply Prop min    4.238459e+07\n",
              "Expected Leakage l/d               1.136422e+06\n",
              "Expected Leakage l/h               4.735092e+04\n",
              "Ref                                1.077997e+07\n",
              "burst_points                       2.825512e+01\n",
              "leakage_points                     2.948270e+01\n",
              "supply_points                      9.811380e+00\n",
              "total_points                       7.266176e-04\n",
              "dtype: float64"
            ]
          },
          "metadata": {},
          "execution_count": 72
        }
      ]
    },
    {
      "cell_type": "code",
      "metadata": {
        "id": "wh369crCoxNh"
      },
      "source": [
        "selected_pipes\n",
        "file_name = f'results_{dataset}/{adjustment}/selected_pipes_{adjustment}_br{target_br}_lr{target_lr}_si{target_si}.csv'\n",
        "selected_pipes.to_csv(file_name, index = False)"
      ],
      "execution_count": null,
      "outputs": []
    },
    {
      "cell_type": "markdown",
      "metadata": {
        "id": "1ASdv-36gNDc"
      },
      "source": [
        "## Not selected pipes summary"
      ]
    },
    {
      "cell_type": "code",
      "metadata": {
        "id": "ltKPqhdh3rRF",
        "colab": {
          "base_uri": "https://localhost:8080/"
        },
        "outputId": "2c274497-8439-4c17-e791-35145169df64"
      },
      "source": [
        "not_selected_pipes.sum()"
      ],
      "execution_count": null,
      "outputs": [
        {
          "output_type": "execute_result",
          "data": {
            "text/plain": [
              "Avg supply int min                 2.049351e+02\n",
              "Cost                               5.724175e+09\n",
              "Expected Burst/year                4.610228e+03\n",
              "Expected Int to Supply Prop min    4.098703e+08\n",
              "Expected Leakage l/d               3.299997e+06\n",
              "Expected Leakage l/h               1.374999e+05\n",
              "Ref                                4.989270e+09\n",
              "burst_points                       9.995502e+01\n",
              "leakage_points                     9.994269e+01\n",
              "supply_points                      9.999490e+01\n",
              "total_points                       2.339522e-03\n",
              "dtype: float64"
            ]
          },
          "metadata": {},
          "execution_count": 74
        }
      ]
    },
    {
      "cell_type": "code",
      "metadata": {
        "id": "M72w04Op3Iyt"
      },
      "source": [
        "not_selected_pipes\n",
        "file_name = f'results_{dataset}/{adjustment}/not_selected_pipes_{adjustment}_br{target_br}_lr{target_lr}_si{target_si}.csv'\n",
        "not_selected_pipes.to_csv(file_name, index = False)"
      ],
      "execution_count": null,
      "outputs": []
    },
    {
      "cell_type": "markdown",
      "metadata": {
        "id": "71xes2lH_IUs"
      },
      "source": [
        "## Execution Time"
      ]
    },
    {
      "cell_type": "code",
      "metadata": {
        "id": "eiNbWZZ8AWqF",
        "colab": {
          "base_uri": "https://localhost:8080/"
        },
        "cellView": "form",
        "outputId": "755c88e6-e528-463d-cab6-4631c60a8f0b"
      },
      "source": [
        "#@title Execution Time Code\n",
        "#End execution time measurement\n",
        "end = datetime.datetime.now()\n",
        "execution_time = end - start\n",
        "execution_time = execution_time.total_seconds()\n",
        "\n",
        "print(f'Heuristic Execution Time (sec) = {execution_time}')"
      ],
      "execution_count": null,
      "outputs": [
        {
          "output_type": "stream",
          "text": [
            "Heuristic Execution Time (sec) = 544.501653\n"
          ],
          "name": "stdout"
        }
      ]
    },
    {
      "cell_type": "markdown",
      "metadata": {
        "id": "4jKZETGrAY1Y"
      },
      "source": [
        "## Comparison with Optimal Solution"
      ]
    },
    {
      "cell_type": "code",
      "metadata": {
        "id": "oD-eHfQk7puL",
        "colab": {
          "base_uri": "https://localhost:8080/"
        },
        "cellView": "form",
        "outputId": "fb5cb4a4-2ba8-4e96-a750-962e6e30b49e"
      },
      "source": [
        "#@title Code for comparison\n",
        "#Heuristics cost\n",
        "heuristics_cost = sum(selected_pipes['Cost'])\n",
        "num_pipes_heuristic = selected_pipes.shape[0]\n",
        "\n",
        "#Read optimal solution\n",
        "optimal_solution = \\\n",
        "  pd.read_csv(f'data/{dataset}_optimal_solutions/Results_br{target_br}_lr{target_lr}_si{target_si}.csv')\n",
        "\n",
        "#Get optimal solution from Xpress\n",
        "optimal_solution_cost = sum(optimal_solution['cost_GBP'])\n",
        "num_optimal_pipes = optimal_solution.shape[0]\n",
        "optimal_pipes = list(optimal_solution.pipe_number)\n",
        "xpress_time = np.mean(optimal_solution.execution_time_sec)\n",
        "\n",
        "#Get the number of pipes selected correctly\n",
        "bolean_filter = selected_pipes.Ref.isin(optimal_pipes)\n",
        "correct_selected_pipes = selected_pipes[bolean_filter]\n",
        "num_correct_selected_pipes = correct_selected_pipes.shape[0]\n",
        "\n",
        "#Compute the accuracy in terms of pipes selected correctly\n",
        "pipes_accuracy = num_correct_selected_pipes/num_optimal_pipes\n",
        "\n",
        "#Get the cost difference\n",
        "cost_difference = heuristics_cost - optimal_solution_cost\n",
        "heuristics_cost_diff = (cost_difference/optimal_solution_cost)*100\n",
        "\n",
        "#Print results\n",
        "print('Heuristic Cost (£) = {:,.0f}'.format(heuristics_cost))\n",
        "print('Optimal Cost (£) = {:,.0f}'.format(optimal_solution_cost))\n",
        "print('Heuristic Cost Difference (%) = {:.2f}'.format(heuristics_cost_diff))\n",
        "print('Number of Optimal Pipes  = {:,.0f}'.format(num_optimal_pipes))\n",
        "print('Accuracy in terms of pipes = {:.2f}'.format(pipes_accuracy))\n"
      ],
      "execution_count": null,
      "outputs": [
        {
          "output_type": "stream",
          "text": [
            "Heuristic Cost (£) = 8,219,150\n",
            "Optimal Cost (£) = 8,219,150\n",
            "Heuristic Cost Difference (%) = 0.00\n",
            "Number of Optimal Pipes  = 225\n",
            "Accuracy in terms of pipes = 1.00\n"
          ],
          "name": "stdout"
        }
      ]
    },
    {
      "cell_type": "code",
      "metadata": {
        "id": "DfkzLYmyXExa",
        "cellView": "form"
      },
      "source": [
        "#@title Pass results to cvs\n",
        "id = f'br{target_br}_lr{target_lr}_si{target_si}'\n",
        "file_name = f'results_{dataset}/heuristic_accuracy_{dataset}.csv'\n",
        "\n",
        "if os.path.isfile(file_name) == True:\n",
        "    a=1\n",
        "else:\n",
        "    file = open(file_name,'x')\n",
        "    file.writelines('id,target_burst_rate,target_leakage_rate,target_supply_int,\\\n",
        "    optimal_cost_gbp,heuristic_cost_gbp,cost_difference_gbp,heuristic_cost_excess_%,\\\n",
        "    n_optimal_pipes,n_pipes_heuristic,correct_pipes_selected,pipe_accuracy,Xpress_time_sec,\\\n",
        "    heuristics_time_sec,n_constraints,adjustment\\n')\n",
        "    file.close()\n",
        "\n",
        "file = open(file_name,'a')\n",
        "file.writelines(f'{id},{target_br},{target_lr},{target_si},{optimal_solution_cost},\\\n",
        "{heuristics_cost},{cost_difference},{heuristics_cost_diff},{num_optimal_pipes},{num_pipes_heuristic},\\\n",
        "{num_correct_selected_pipes},{pipes_accuracy},{xpress_time},{execution_time},\\\n",
        "{n_real_constraints},{adjustment}\\n')\n",
        "file.close()"
      ],
      "execution_count": null,
      "outputs": []
    }
  ]
}